{
 "cells": [
  {
   "cell_type": "markdown",
   "metadata": {},
   "source": [
    "## Data Ingestion stage"
   ]
  },
  {
   "cell_type": "markdown",
   "metadata": {},
   "source": [
    "This notebook handles the **data ingestion stage** of the project. Its main purpose is to:\n",
    "- Download the raw dataset (cats and dogs images) from a specified URL.\n",
    "- Unzip and extract the images.\n",
    "- Clean the dataset by removing corrupted or empty files.\n",
    "- Prepare the data directory for further processing and model training."
   ]
  },
  {
   "cell_type": "code",
   "execution_count": 1,
   "metadata": {},
   "outputs": [],
   "source": [
    "# Import required modules for data handling\n",
    "from collections import namedtuple\n",
    "import os"
   ]
  },
  {
   "cell_type": "code",
   "execution_count": 2,
   "metadata": {},
   "outputs": [],
   "source": [
    "# (Optional) Change working directory up one level if needed\n",
    "os.chdir(\"../\")"
   ]
  },
  {
   "cell_type": "code",
   "execution_count": 3,
   "metadata": {},
   "outputs": [
    {
     "data": {
      "text/plain": [
       "'/home/zkhechadoorian/CNNs_Cats_and_Dogs'"
      ]
     },
     "execution_count": 3,
     "metadata": {},
     "output_type": "execute_result"
    }
   ],
   "source": [
    "# Print the current working directory to confirm location\n",
    "%pwd"
   ]
  },
  {
   "cell_type": "code",
   "execution_count": 4,
   "metadata": {},
   "outputs": [],
   "source": [
    "# Define a namedtuple for data ingestion configuration\n",
    "DataIngestionConfig = namedtuple(\"DataIngestionConfig\", [\n",
    "    \"root_dir\",\n",
    "    \"source_URL\",\n",
    "    \"local_data_file\",\n",
    "    \"unzip_dir\"\n",
    "])\n",
    "\n",
    "# Define a dataclass for data ingestion configuration (alternative to namedtuple)\n",
    "from dataclasses import dataclass\n",
    "from pathlib import Path\n",
    "\n",
    "@dataclass(frozen=True)\n",
    "class DataIngestionConfig:\n",
    "    root_dir: Path\n",
    "    source_URL: str\n",
    "    local_data_file: Path\n",
    "    unzip_dir: Path"
   ]
  },
  {
   "cell_type": "code",
   "execution_count": 5,
   "metadata": {},
   "outputs": [],
   "source": [
    "# Import utility functions and constants for configuration management\n",
    "from ImageClassification.constants import *\n",
    "from ImageClassification.utils import read_yaml, create_directories"
   ]
  },
  {
   "cell_type": "markdown",
   "metadata": {
    "vscode": {
     "languageId": "markdown"
    }
   },
   "source": [
    "The `ConfigurationManager` class is responsible for managing the configuration of the data ingestion pipeline. It reads configuration files, parses their contents, and provides structured access to the configuration data. Here's a detailed explanation of the `ConfigurationManager` class and its relevant variables:\n",
    "\n",
    "### **ConfigurationManager Class**\n",
    "The `ConfigurationManager` class is defined in **CELL INDEX: 9**. Its primary purpose is to:\n",
    "1. **Read Configuration Files**: It reads the configuration file (`config/config.yaml`) and parameters file (`params.yaml`) using the `read_yaml` utility function.\n",
    "2. **Create Necessary Directories**: It ensures that the directories specified in the configuration file are created using the `create_directories` utility function.\n",
    "3. **Provide Configuration Objects**: It provides structured access to the configuration data by returning instances of the `DataIngestionConfig` class.\n",
    "\n",
    "#### **Constructor (`__init__`)**\n",
    "The constructor initializes the `ConfigurationManager` object with the following:\n",
    "- `config_filepath`: Path to the configuration file (default: `CONFIG_FILE_PATH`).\n",
    "- `params_filepath`: Path to the parameters file (default: `PARAMS_FILE_PATH`).\n",
    "\n",
    "It performs the following actions:\n",
    "1. Reads the configuration and parameters files using `read_yaml`.\n",
    "2. Creates the root directory for artifacts as specified in the configuration file.\n",
    "\n",
    "#### **Method: `get_data_ingestion_config`**\n",
    "This method:\n",
    "1. Extracts the `data_ingestion` section from the configuration file.\n",
    "2. Creates the root directory for data ingestion artifacts.\n",
    "3. Returns an instance of the `DataIngestionConfig` class, which contains the following attributes:\n",
    "    - `root_dir`: Root directory for data ingestion artifacts.\n",
    "    - `source_URL`: URL of the dataset to be downloaded.\n",
    "    - `local_data_file`: Path to the local file where the dataset will be saved.\n",
    "    - `unzip_dir`: Directory where the dataset will be extracted.\n",
    "\n",
    "---\n",
    "\n",
    "### **Relevant Variables**\n",
    "The `ConfigurationManager` class relies on the following variables, which are defined in the notebook:\n",
    "\n",
    "#### **1. CONFIG_FILE_PATH**\n",
    "- **Type**: `pathlib.PosixPath`\n",
    "- **Value**: `PosixPath('config/config.yaml')`\n",
    "- **Purpose**: Specifies the path to the main configuration file (`config.yaml`), which contains settings for the data ingestion pipeline.\n",
    "\n",
    "#### **2. PARAMS_FILE_PATH**\n",
    "- **Type**: `pathlib.PosixPath`\n",
    "- **Value**: `PosixPath('params.yaml')`\n",
    "- **Purpose**: Specifies the path to the parameters file (`params.yaml`), which may contain additional settings or hyperparameters for the pipeline.\n",
    "\n",
    "#### **3. config**\n",
    "- **Type**: `ConfigurationManager`\n",
    "- **Value**: An instance of the `ConfigurationManager` class.\n",
    "- **Purpose**: Provides access to the configuration data and methods for managing the pipeline.\n",
    "\n",
    "#### **4. create_directories**\n",
    "- **Type**: Function\n",
    "- **Purpose**: Utility function to create directories specified in the configuration file.\n",
    "\n",
    "#### **5. read_yaml**\n",
    "- **Type**: Function\n",
    "- **Purpose**: Utility function to read YAML files and parse their contents into Python dictionaries.\n",
    "\n",
    "---\n",
    "\n",
    "### **Repository Structure**\n",
    "The relevant variables (`CONFIG_FILE_PATH`, `PARAMS_FILE_PATH`) point to files stored in the repository. Here's where they are located:\n",
    "\n",
    "1. **`config/config.yaml`**:\n",
    "    - This file contains the main configuration for the pipeline, including paths, URLs, and other settings.\n",
    "    - Example structure:\n",
    "      ```yaml\n",
    "      data_ingestion:\n",
    "         root_dir: artifacts/data_ingestion\n",
    "         source_URL: https://github.com/entbappy/Branching-tutorial/raw/master/cat-dog-data.zip\n",
    "         local_data_file: artifacts/data_ingestion/data.zip\n",
    "         unzip_dir: artifacts/data_ingestion\n",
    "      artifacts_root: artifacts\n",
    "      ```\n",
    "\n",
    "2. **`params.yaml`**:\n",
    "    - This file contains additional parameters or hyperparameters for the pipeline.\n",
    "    - Example structure:\n",
    "      ```yaml\n",
    "      batch_size: 32\n",
    "      learning_rate: 0.001\n",
    "      epochs: 10\n",
    "      ```\n",
    "\n",
    "---\n",
    "\n",
    "### **Relevance**\n",
    "The `ConfigurationManager` class and its associated variables are critical for ensuring that the pipeline operates in a structured and reproducible manner. By centralizing configuration management, the pipeline becomes easier to maintain, debug, and extend."
   ]
  },
  {
   "cell_type": "code",
   "execution_count": 6,
   "metadata": {},
   "outputs": [],
   "source": [
    "# Define a configuration manager to read config files and create directories\n",
    "class ConfigurationManager:\n",
    "    def __init__(\n",
    "        self,\n",
    "        config_filepath = CONFIG_FILE_PATH,\n",
    "        params_filepath = PARAMS_FILE_PATH):\n",
    "        \"\"\"\n",
    "        Initialize the ConfigurationManager by reading configuration and parameter YAML files,\n",
    "        and creating the root artifact directory.\n",
    "        Args:\n",
    "            config_filepath (Path): Path to the configuration YAML file.\n",
    "            params_filepath (Path): Path to the parameters YAML file.\n",
    "        \"\"\"\n",
    "        self.config = read_yaml(config_filepath)\n",
    "        self.params = read_yaml(params_filepath)\n",
    "\n",
    "        create_directories([self.config.artifacts_root])\n",
    "\n",
    "    def get_data_ingestion_config(self) -> DataIngestionConfig:\n",
    "        \"\"\"\n",
    "        Extract the data_ingestion section from the configuration file,\n",
    "        create the root directory for data ingestion artifacts,\n",
    "        and return a DataIngestionConfig object.\n",
    "        Returns:\n",
    "            DataIngestionConfig: Configuration for data ingestion.\n",
    "        \"\"\"\n",
    "        config = self.config.data_ingestion\n",
    "\n",
    "        create_directories([config.root_dir])\n",
    "\n",
    "        data_ingestion_config = DataIngestionConfig(\n",
    "            root_dir=config.root_dir,\n",
    "            source_URL=config.source_URL,\n",
    "            local_data_file=config.local_data_file,\n",
    "            unzip_dir=config.unzip_dir \n",
    "        )\n",
    "\n",
    "        return data_ingestion_config"
   ]
  },
  {
   "cell_type": "code",
   "execution_count": 7,
   "metadata": {},
   "outputs": [],
   "source": [
    "# Import additional modules for downloading and extracting files\n",
    "import os\n",
    "import urllib.request as request\n",
    "from zipfile import ZipFile"
   ]
  },
  {
   "cell_type": "code",
   "execution_count": 8,
   "metadata": {},
   "outputs": [],
   "source": [
    "# Define the DataIngestion class for downloading and cleaning the dataset\n",
    "class DataIngestion:\n",
    "    def __init__(self, config: DataIngestionConfig):\n",
    "        \"\"\"\n",
    "        Initialize the DataIngestion class with the given configuration.\n",
    "        Args:\n",
    "            config (DataIngestionConfig): Configuration for data ingestion.\n",
    "        \"\"\"\n",
    "        self.config = config\n",
    "\n",
    "    def download_file(self):\n",
    "        \"\"\"\n",
    "        Download the dataset from the source URL if it does not already exist locally.\n",
    "        \"\"\"\n",
    "        if not os.path.exists(self.config.local_data_file):\n",
    "            filename, headers = request.urlretrieve(\n",
    "                url = self.config.source_URL,\n",
    "                filename = self.config.local_data_file\n",
    "            )\n",
    "\n",
    "    def _get_updated_list_of_files(self, list_of_files):\n",
    "        \"\"\"\n",
    "        Filter the list of files to include only valid image files (cats and dogs).\n",
    "        Args:\n",
    "            list_of_files (list): List of file names from the zip archive.\n",
    "        Returns:\n",
    "            list: Filtered list of valid image file names.\n",
    "        \"\"\"\n",
    "        return [f for f in list_of_files if f.endswith(\".jpg\") and (\"Cat\" in f or \"Dog\" in f)]\n",
    "    \n",
    "    def _preprocess(self, zf: ZipFile, f: str, working_dir: str):\n",
    "        \"\"\"\n",
    "        Extract and clean an image file from the zip archive.\n",
    "        Removes the file if it is empty or corrupted.\n",
    "        Args:\n",
    "            zf (ZipFile): ZipFile object for the dataset archive.\n",
    "            f (str): File name to extract and preprocess.\n",
    "            working_dir (str): Directory to extract the file to.\n",
    "        \"\"\"\n",
    "        target_filepath = os.path.join(working_dir, f)\n",
    "        if not os.path.exists(target_filepath):\n",
    "            zf.extract(f, working_dir)\n",
    "        \n",
    "        if os.path.getsize(target_filepath) == 0:\n",
    "            os.remove(target_filepath)\n",
    "\n",
    "    def unzip_and_clean(self):\n",
    "        \"\"\"\n",
    "        Unzip the dataset and clean corrupted or empty files.\n",
    "        Only valid image files are extracted and cleaned.\n",
    "        \"\"\"\n",
    "        with ZipFile(file=self.config.local_data_file, mode=\"r\") as zf:\n",
    "            list_of_files = zf.namelist()\n",
    "            updated_list_of_files = self._get_updated_list_of_files(list_of_files)\n",
    "            for f in updated_list_of_files:\n",
    "                self._preprocess(zf, f, self.config.unzip_dir)"
   ]
  },
  {
   "cell_type": "code",
   "execution_count": 9,
   "metadata": {},
   "outputs": [
    {
     "data": {
      "text/plain": [
       "'/home/zkhechadoorian/CNNs_Cats_and_Dogs'"
      ]
     },
     "execution_count": 9,
     "metadata": {},
     "output_type": "execute_result"
    }
   ],
   "source": [
    "# Print the current working directory again (for debugging)\n",
    "%pwd"
   ]
  },
  {
   "cell_type": "code",
   "execution_count": 10,
   "metadata": {},
   "outputs": [
    {
     "name": "stdout",
     "output_type": "stream",
     "text": [
      "[2025-09-19 23:05:22,456: INFO: common: yaml file: config/config.yaml loaded successfully]\n",
      "[2025-09-19 23:05:22,458: INFO: common: yaml file: params.yaml loaded successfully]\n",
      "[2025-09-19 23:05:22,459: INFO: common: created directory at: artifacts]\n",
      "[2025-09-19 23:05:22,459: INFO: common: created directory at: artifacts/data_ingestion]\n"
     ]
    }
   ],
   "source": [
    "# Run the data ingestion pipeline: download and extract/clean the dataset\n",
    "try:\n",
    "    config = ConfigurationManager()\n",
    "    data_ingestion_config = config.get_data_ingestion_config()\n",
    "    data_ingestion = DataIngestion(config=data_ingestion_config)\n",
    "    data_ingestion.download_file()\n",
    "    data_ingestion.unzip_and_clean()\n",
    "except Exception as e:\n",
    "    raise e"
   ]
  }
 ],
 "metadata": {
  "kernelspec": {
   "display_name": ".venv",
   "language": "python",
   "name": "python3"
  },
  "language_info": {
   "codemirror_mode": {
    "name": "ipython",
    "version": 3
   },
   "file_extension": ".py",
   "mimetype": "text/x-python",
   "name": "python",
   "nbconvert_exporter": "python",
   "pygments_lexer": "ipython3",
   "version": "3.10.18"
  }
 },
 "nbformat": 4,
 "nbformat_minor": 2
}
