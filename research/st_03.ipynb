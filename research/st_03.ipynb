{
 "cells": [
  {
   "cell_type": "markdown",
   "metadata": {},
   "source": [
    "## Prepare CallBack"
   ]
  },
  {
   "cell_type": "markdown",
   "metadata": {
    "vscode": {
     "languageId": "markdown"
    }
   },
   "source": [
    "## Summary of the Notebook\n",
    "\n",
    "This notebook is designed to prepare and manage callbacks for a machine learning workflow, specifically for TensorFlow/Keras models. Callbacks in a machine learning workflow are functions that allow you to customize the training process of a model. They are executed at specific stages during training (such as at the end of each epoch or batch) and can be used to:\n",
    "\n",
    "- Save model checkpoints (e.g., after each epoch or when performance improves)\n",
    "- Log training metrics for visualization (e.g., with TensorBoard)\n",
    "- Adjust the learning rate dynamically\n",
    "- Stop training early if performance stops improving (early stopping)\n",
    "- Collect custom statistics or perform custom actions\n",
    "- In TensorFlow/Keras, callbacks are passed to the model.fit() method via the callbacks argument. - Below is a summary of the key components and variables used in this notebook:\n",
    "\n",
    "### Key Components:\n",
    "1. **PrepareCallbacksConfig**: A dataclass that holds configuration details for callbacks, including paths for TensorBoard logs and model checkpoints.\n",
    "2. **ConfigurationManager**: A class responsible for reading configuration files (`config.yaml` and `params.yaml`) and creating necessary directories.\n",
    "3. **PrepareCallback**: A class that creates TensorFlow/Keras callbacks for TensorBoard logging and model checkpointing.\n",
    "\n",
    "### Key Variables:\n",
    "- **CONFIG_FILE_PATH**: Path to the configuration file (`config/config.yaml`).\n",
    "- **PARAMS_FILE_PATH**: Path to the parameters file (`params.yaml`).\n",
    "- **callback_list**: A list of TensorFlow/Keras callbacks, including TensorBoard and ModelCheckpoint callbacks.\n",
    "- **config**: An instance of `ConfigurationManager` that manages the configuration settings.\n",
    "- **create_directories**: A utility function to create directories as needed.\n",
    "- **prepare_callbacks**: An instance of `PrepareCallback` that generates the required callbacks.\n",
    "- **prepare_callbacks_config**: An instance of `PrepareCallbacksConfig` containing paths for TensorBoard logs and model checkpoints.\n",
    "- **read_yaml**: A utility function to read YAML configuration files.\n",
    "- **timestamp**: A string representing the current timestamp, used for naming TensorBoard log directories.\n",
    "\n",
    "This notebook integrates configuration management, directory creation, and callback preparation to streamline the training process of machine learning models."
   ]
  },
  {
   "cell_type": "code",
   "execution_count": 1,
   "metadata": {},
   "outputs": [],
   "source": [
    "# Import os for directory operations\n",
    "import os"
   ]
  },
  {
   "cell_type": "code",
   "execution_count": 2,
   "metadata": {},
   "outputs": [
    {
     "data": {
      "text/plain": [
       "'/home/zkhechadoorian/CNNs_Cats_and_Dogs/research'"
      ]
     },
     "execution_count": 2,
     "metadata": {},
     "output_type": "execute_result"
    }
   ],
   "source": [
    "# Print the current working directory (for debugging path issues)\n",
    "%pwd"
   ]
  },
  {
   "cell_type": "code",
   "execution_count": 3,
   "metadata": {},
   "outputs": [],
   "source": [
    "# (Optional) Change working directory up one level if needed for imports or file access\n",
    "os.chdir(\"../\")"
   ]
  },
  {
   "cell_type": "code",
   "execution_count": 4,
   "metadata": {},
   "outputs": [
    {
     "data": {
      "text/plain": [
       "'/home/zkhechadoorian/CNNs_Cats_and_Dogs'"
      ]
     },
     "execution_count": 4,
     "metadata": {},
     "output_type": "execute_result"
    }
   ],
   "source": [
    "# Print the new working directory after changing it\n",
    "%pwd"
   ]
  },
  {
   "cell_type": "code",
   "execution_count": 5,
   "metadata": {},
   "outputs": [],
   "source": [
    "# Define a dataclass for callback configuration\n",
    "from dataclasses import dataclass\n",
    "from pathlib import Path\n",
    "\n",
    "@dataclass(frozen=True)\n",
    "class PrepareCallbacksConfig:\n",
    "    root_dir: Path  # Directory for artifacts\n",
    "    tensorboard_root_log_dir: Path  # Directory for TensorBoard logs\n",
    "    checkpoint_model_filepath: Path  # Filepath for model checkpoints"
   ]
  },
  {
   "cell_type": "code",
   "execution_count": 6,
   "metadata": {},
   "outputs": [],
   "source": [
    "# Import project constants and utility functions for YAML reading and directory creation\n",
    "from ImageClassification.constants import *\n",
    "from ImageClassification.utils import read_yaml, create_directories"
   ]
  },
  {
   "cell_type": "code",
   "execution_count": 7,
   "metadata": {},
   "outputs": [],
   "source": [
    "# ConfigurationManager reads config and params YAML files and prepares config objects\n",
    "class ConfigurationManager:\n",
    "    def __init__(\n",
    "        self, \n",
    "        config_filepath = CONFIG_FILE_PATH,\n",
    "        params_filepath = PARAMS_FILE_PATH):\n",
    "        # Read configuration and parameter YAML files\n",
    "        self.config = read_yaml(config_filepath)\n",
    "        self.params = read_yaml(params_filepath)\n",
    "        # Create the root artifact directory\n",
    "        create_directories([self.config.artifacts_root])\n",
    "\n",
    "    def get_prepare_callback_config(self) -> PrepareCallbacksConfig:\n",
    "        # Extract the prepare_callbacks section from config\n",
    "        config = self.config.prepare_callbacks\n",
    "        model_ckpt_dir = os.path.dirname(config.checkpoint_model_filepath)\n",
    "        # Create directories for checkpoints and TensorBoard logs\n",
    "        create_directories([\n",
    "            Path(model_ckpt_dir),\n",
    "            Path(config.tensorboard_root_log_dir)\n",
    "        ])\n",
    "\n",
    "        # Build and return the config dataclass\n",
    "        prepare_callback_config = PrepareCallbacksConfig(\n",
    "            root_dir=Path(config.root_dir),\n",
    "            tensorboard_root_log_dir=Path(config.tensorboard_root_log_dir),\n",
    "            checkpoint_model_filepath=Path(config.checkpoint_model_filepath)\n",
    "        )\n",
    "\n",
    "        return prepare_callback_config"
   ]
  },
  {
   "cell_type": "code",
   "execution_count": 8,
   "metadata": {},
   "outputs": [
    {
     "name": "stderr",
     "output_type": "stream",
     "text": [
      "2025-09-10 15:58:45.087352: I external/local_xla/xla/tsl/cuda/cudart_stub.cc:31] Could not find cuda drivers on your machine, GPU will not be used.\n",
      "2025-09-10 15:58:45.087791: I tensorflow/core/util/port.cc:153] oneDNN custom operations are on. You may see slightly different numerical results due to floating-point round-off errors from different computation orders. To turn them off, set the environment variable `TF_ENABLE_ONEDNN_OPTS=0`.\n",
      "2025-09-10 15:58:45.153874: I tensorflow/core/platform/cpu_feature_guard.cc:210] This TensorFlow binary is optimized to use available CPU instructions in performance-critical operations.\n",
      "To enable the following instructions: AVX2 AVX512F AVX512_VNNI FMA, in other operations, rebuild TensorFlow with the appropriate compiler flags.\n",
      "2025-09-10 15:58:46.779416: I tensorflow/core/util/port.cc:153] oneDNN custom operations are on. You may see slightly different numerical results due to floating-point round-off errors from different computation orders. To turn them off, set the environment variable `TF_ENABLE_ONEDNN_OPTS=0`.\n",
      "2025-09-10 15:58:46.779873: I external/local_xla/xla/tsl/cuda/cudart_stub.cc:31] Could not find cuda drivers on your machine, GPU will not be used.\n"
     ]
    }
   ],
   "source": [
    "# Import TensorFlow and other required modules for callbacks\n",
    "import os\n",
    "import urllib.request as request\n",
    "from zipfile import ZipFile\n",
    "import tensorflow as tf\n",
    "import time"
   ]
  },
  {
   "cell_type": "code",
   "execution_count": 9,
   "metadata": {},
   "outputs": [],
   "source": [
    "# PrepareCallback creates TensorBoard and ModelCheckpoint callbacks\n",
    "class PrepareCallback:\n",
    "    def __init__(self, config: PrepareCallbacksConfig):\n",
    "        self.config = config\n",
    "\n",
    "    @property\n",
    "    def _create_tb_callbacks(self):\n",
    "        # Create a TensorBoard callback with a timestamped log directory\n",
    "        timestamp = time.strftime(\"%Y-%m-%d-%H-%M-%S\")\n",
    "        tb_running_log_dir = os.path.join(\n",
    "            self.config.tensorboard_root_log_dir,\n",
    "            f\"tb_logs_at_{timestamp}\",\n",
    "        )\n",
    "        return tf.keras.callbacks.TensorBoard(log_dir=tb_running_log_dir)\n",
    "\n",
    "    @property\n",
    "    def _create_ckpt_callbacks(self):\n",
    "        # Create a ModelCheckpoint callback to save the best model\n",
    "        return tf.keras.callbacks.ModelCheckpoint(\n",
    "            filepath=str(self.config.checkpoint_model_filepath),  # Convert WindowsPath to string\n",
    "            save_best_only=True\n",
    "        )\n",
    "\n",
    "    def get_tb_ckpt_callbacks(self):\n",
    "        # Return a list of both callbacks for use in model training\n",
    "        return [\n",
    "            self._create_tb_callbacks,\n",
    "            self._create_ckpt_callbacks\n",
    "        ]"
   ]
  },
  {
   "cell_type": "code",
   "execution_count": 10,
   "metadata": {},
   "outputs": [
    {
     "name": "stdout",
     "output_type": "stream",
     "text": [
      "[2025-09-10 15:58:47,721: INFO: common: yaml file: config/config.yaml loaded successfully]\n",
      "[2025-09-10 15:58:47,723: INFO: common: yaml file: params.yaml loaded successfully]\n",
      "[2025-09-10 15:58:47,723: INFO: common: created directory at: artifacts]\n",
      "[2025-09-10 15:58:47,724: INFO: common: created directory at: artifacts/prepare_callbacks/checkpoint_dir]\n",
      "[2025-09-10 15:58:47,725: INFO: common: created directory at: artifacts/prepare_callbacks/tensorboard_log_dir]\n"
     ]
    }
   ],
   "source": [
    "# Example usage: Prepare and get the callbacks for training\n",
    "try:\n",
    "    config = ConfigurationManager()\n",
    "    prepare_callbacks_config = config.get_prepare_callback_config()\n",
    "    prepare_callbacks = PrepareCallback(config=prepare_callbacks_config)\n",
    "    callback_list = prepare_callbacks.get_tb_ckpt_callbacks()\n",
    "    # callback_list can now be passed to model.fit()\n",
    "except Exception as e:\n",
    "    raise e"
   ]
  },
  {
   "cell_type": "code",
   "execution_count": 11,
   "metadata": {},
   "outputs": [
    {
     "data": {
      "text/plain": [
       "'x/y'"
      ]
     },
     "execution_count": 11,
     "metadata": {},
     "output_type": "execute_result"
    }
   ],
   "source": [
    "# Example: Get the directory name from a path (utility demonstration)\n",
    "import os\n",
    "os.path.dirname(\"x/y/z.txt\")"
   ]
  },
  {
   "cell_type": "code",
   "execution_count": 12,
   "metadata": {},
   "outputs": [
    {
     "data": {
      "text/plain": [
       "'tb_logs_at_2025-09-10-15-58-47'"
      ]
     },
     "execution_count": 12,
     "metadata": {},
     "output_type": "execute_result"
    }
   ],
   "source": [
    "# Example: Generate a timestamped string for log directories\n",
    "import time\n",
    "timestamp = time.strftime(\"%Y-%m-%d-%H-%M-%S\")\n",
    "f\"tb_logs_at_{timestamp}\""
   ]
  }
 ],
 "metadata": {
  "kernelspec": {
   "display_name": ".venv",
   "language": "python",
   "name": "python3"
  },
  "language_info": {
   "codemirror_mode": {
    "name": "ipython",
    "version": 3
   },
   "file_extension": ".py",
   "mimetype": "text/x-python",
   "name": "python",
   "nbconvert_exporter": "python",
   "pygments_lexer": "ipython3",
   "version": "3.10.18"
  },
  "orig_nbformat": 4
 },
 "nbformat": 4,
 "nbformat_minor": 2
}
