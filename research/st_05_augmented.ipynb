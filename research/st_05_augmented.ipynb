{
 "cells": [
  {
   "cell_type": "markdown",
   "metadata": {},
   "source": [
    "## Model Evaluation"
   ]
  },
  {
   "cell_type": "markdown",
   "metadata": {
    "vscode": {
     "languageId": "markdown"
    }
   },
   "source": [
    "## Script Summary\n",
    "\n",
    "This script is designed for evaluating a pre-trained deep learning model on a validation dataset. The key steps include:\n",
    "\n",
    "1. **Configuration Management**: The `ConfigurationManager` class reads configuration and parameter files, creates necessary directories, and provides an `EvaluationConfig` object containing paths and parameters for evaluation.\n",
    "\n",
    "2. **Model Evaluation**: The `Evaluation` class handles the evaluation process. It:\n",
    "    - Loads the pre-trained model from the specified path.\n",
    "    - Prepares a validation data generator with specified image size and batch size.\n",
    "    - Evaluates the model on the validation dataset and computes the loss and accuracy.\n",
    "\n",
    "3. **Saving Results**: The evaluation results (loss and accuracy) are saved in a JSON file named `scores.json`.\n",
    "\n",
    "The script is modular, with reusable components for configuration management, data handling, and evaluation. It ensures that the evaluation process is automated and the results are stored for further analysis."
   ]
  },
  {
   "cell_type": "code",
   "execution_count": 1,
   "metadata": {},
   "outputs": [],
   "source": [
    "import os"
   ]
  },
  {
   "cell_type": "code",
   "execution_count": 2,
   "metadata": {},
   "outputs": [
    {
     "data": {
      "text/plain": [
       "'/home/zkhechadoorian/CNNs_Cats_and_Dogs/research'"
      ]
     },
     "execution_count": 2,
     "metadata": {},
     "output_type": "execute_result"
    }
   ],
   "source": [
    "%pwd"
   ]
  },
  {
   "cell_type": "code",
   "execution_count": 3,
   "metadata": {},
   "outputs": [],
   "source": [
    "os.chdir(\"../\")"
   ]
  },
  {
   "cell_type": "code",
   "execution_count": 4,
   "metadata": {},
   "outputs": [
    {
     "data": {
      "text/plain": [
       "'/home/zkhechadoorian/CNNs_Cats_and_Dogs'"
      ]
     },
     "execution_count": 4,
     "metadata": {},
     "output_type": "execute_result"
    }
   ],
   "source": [
    "%pwd"
   ]
  },
  {
   "cell_type": "code",
   "execution_count": 5,
   "metadata": {},
   "outputs": [
    {
     "name": "stderr",
     "output_type": "stream",
     "text": [
      "2025-09-17 04:39:22.851134: I external/local_xla/xla/tsl/cuda/cudart_stub.cc:31] Could not find cuda drivers on your machine, GPU will not be used.\n",
      "2025-09-17 04:39:22.851579: I tensorflow/core/util/port.cc:153] oneDNN custom operations are on. You may see slightly different numerical results due to floating-point round-off errors from different computation orders. To turn them off, set the environment variable `TF_ENABLE_ONEDNN_OPTS=0`.\n",
      "2025-09-17 04:39:22.917419: I tensorflow/core/platform/cpu_feature_guard.cc:210] This TensorFlow binary is optimized to use available CPU instructions in performance-critical operations.\n",
      "To enable the following instructions: AVX2 AVX512F AVX512_VNNI FMA, in other operations, rebuild TensorFlow with the appropriate compiler flags.\n",
      "2025-09-17 04:39:24.621785: I tensorflow/core/util/port.cc:153] oneDNN custom operations are on. You may see slightly different numerical results due to floating-point round-off errors from different computation orders. To turn them off, set the environment variable `TF_ENABLE_ONEDNN_OPTS=0`.\n",
      "2025-09-17 04:39:24.622264: I external/local_xla/xla/tsl/cuda/cudart_stub.cc:31] Could not find cuda drivers on your machine, GPU will not be used.\n"
     ]
    }
   ],
   "source": [
    "import tensorflow as tf"
   ]
  },
  {
   "cell_type": "code",
   "execution_count": 6,
   "metadata": {},
   "outputs": [
    {
     "name": "stderr",
     "output_type": "stream",
     "text": [
      "2025-09-17 04:39:26.056672: E external/local_xla/xla/stream_executor/cuda/cuda_platform.cc:51] failed call to cuInit: INTERNAL: CUDA error: Failed call to cuInit: UNKNOWN ERROR (303)\n"
     ]
    }
   ],
   "source": [
    "#model = tf.keras.models.load_model(\"artifacts/training/scan_over_freeze_till_models_freeze_4.h5\", compile=False)\n",
    "model = tf.keras.models.load_model(\"artifacts/training/model.h5\", compile=False)"
   ]
  },
  {
   "cell_type": "code",
   "execution_count": 7,
   "metadata": {},
   "outputs": [],
   "source": [
    "from dataclasses import dataclass\n",
    "from pathlib import Path\n",
    "\n",
    "@dataclass(frozen=True)\n",
    "class EvaluationConfig:\n",
    "    path_of_model: Path\n",
    "    training_data: Path\n",
    "    all_params: dict\n",
    "    params_image_size: list\n",
    "    params_batch_size: int"
   ]
  },
  {
   "cell_type": "code",
   "execution_count": 8,
   "metadata": {},
   "outputs": [],
   "source": [
    "from ImageClassification.constants import *\n",
    "from ImageClassification.utils import read_yaml, create_directories, save_json"
   ]
  },
  {
   "cell_type": "code",
   "execution_count": 9,
   "metadata": {},
   "outputs": [],
   "source": [
    "class ConfigurationManager:\n",
    "    def __init__(\n",
    "        self, \n",
    "        config_filepath = CONFIG_FILE_PATH,\n",
    "        params_filepath = PARAMS_FILE_PATH):\n",
    "        self.config = read_yaml(config_filepath)\n",
    "        self.params = read_yaml(params_filepath)\n",
    "        create_directories([self.config.artifacts_root])\n",
    "\n",
    "    \n",
    "    def get_validation_config(self) -> EvaluationConfig:\n",
    "        eval_config = EvaluationConfig(\n",
    "            path_of_model=\"artifacts/training/model.h5\",\n",
    "            training_data=\"artifacts/data_ingestion/PetImages\",\n",
    "            all_params=self.params,\n",
    "            params_image_size=self.params.IMAGE_SIZE,\n",
    "            params_batch_size=self.params.BATCH_SIZE\n",
    "        )\n",
    "\n",
    "        return eval_config"
   ]
  },
  {
   "cell_type": "code",
   "execution_count": 10,
   "metadata": {},
   "outputs": [],
   "source": [
    "from urllib.parse import urlparse"
   ]
  },
  {
   "cell_type": "code",
   "execution_count": 11,
   "metadata": {},
   "outputs": [],
   "source": [
    "class Evaluation:\n",
    "    def __init__(self, config: EvaluationConfig):\n",
    "        self.config = config\n",
    "\n",
    "    \n",
    "    def _valid_generator(self):\n",
    "\n",
    "        datagenerator_kwargs = dict(\n",
    "            rescale = 1./255,\n",
    "            validation_split=0.30\n",
    "        )\n",
    "\n",
    "        dataflow_kwargs = dict(\n",
    "            target_size=self.config.params_image_size[:-1],\n",
    "            batch_size=self.config.params_batch_size,\n",
    "            interpolation=\"bilinear\"\n",
    "        )\n",
    "\n",
    "        valid_datagenerator = tf.keras.preprocessing.image.ImageDataGenerator(\n",
    "            **datagenerator_kwargs\n",
    "        )\n",
    "\n",
    "        self.valid_generator = valid_datagenerator.flow_from_directory(\n",
    "            directory=self.config.training_data,\n",
    "            subset=\"validation\",\n",
    "            shuffle=False,\n",
    "            **dataflow_kwargs\n",
    "        )\n",
    "\n",
    "    \n",
    "    @staticmethod\n",
    "    def load_model(path: Path) -> tf.keras.Model:\n",
    "        return tf.keras.models.load_model(path)\n",
    "    \n",
    "\n",
    "    def evaluation(self):\n",
    "        self.model = self.load_model(self.config.path_of_model)\n",
    "        self._valid_generator()\n",
    "        self.score = self.model.evaluate(self.valid_generator)\n",
    "\n",
    "\n",
    "    \n",
    "    def save_score(self):\n",
    "        scores = {\"loss\": self.score[0], \"accuracy\": self.score[1]}\n",
    "        save_json(path=Path(\"scores.json\"), data=scores)\n",
    "        "
   ]
  },
  {
   "cell_type": "code",
   "execution_count": 12,
   "metadata": {},
   "outputs": [
    {
     "name": "stdout",
     "output_type": "stream",
     "text": [
      "[2025-09-17 04:39:26,489: INFO: common: yaml file: config/config.yaml loaded successfully]\n",
      "[2025-09-17 04:39:26,492: INFO: common: yaml file: params.yaml loaded successfully]\n",
      "[2025-09-17 04:39:26,493: INFO: common: created directory at: artifacts]\n",
      "[2025-09-17 04:39:26,662: WARNING: saving_utils: Compiled the loaded model, but the compiled metrics have yet to be built. `model.compile_metrics` will be empty until you train or evaluate the model.]\n",
      "Found 418 images belonging to 2 classes.\n"
     ]
    },
    {
     "name": "stderr",
     "output_type": "stream",
     "text": [
      "/home/zkhechadoorian/CNNs_Cats_and_Dogs/.venv/lib/python3.10/site-packages/keras/src/trainers/data_adapters/py_dataset_adapter.py:121: UserWarning: Your `PyDataset` class should call `super().__init__(**kwargs)` in its constructor. `**kwargs` can include `workers`, `use_multiprocessing`, `max_queue_size`. Do not pass these arguments to `fit()`, as they will be ignored.\n",
      "  self._warn_if_super_not_called()\n"
     ]
    },
    {
     "name": "stdout",
     "output_type": "stream",
     "text": [
      "\u001b[1m27/27\u001b[0m \u001b[32m━━━━━━━━━━━━━━━━━━━━\u001b[0m\u001b[37m\u001b[0m \u001b[1m7s\u001b[0m 236ms/step - accuracy: 0.8589 - loss: 0.3232\n",
      "[2025-09-17 04:39:33,959: INFO: common: json file saved at: scores.json]\n"
     ]
    }
   ],
   "source": [
    "try:\n",
    "    config = ConfigurationManager()\n",
    "    val_config = config.get_validation_config()\n",
    "    evaluation = Evaluation(val_config)\n",
    "    evaluation.evaluation()\n",
    "    evaluation.save_score()\n",
    "\n",
    "except Exception as e:\n",
    "   raise e"
   ]
  },
  {
   "cell_type": "code",
   "execution_count": 13,
   "metadata": {},
   "outputs": [
    {
     "name": "stdout",
     "output_type": "stream",
     "text": [
      "\n",
      "\n",
      "Evaluating model: artifacts/training/scan_over_freeze_till_models_freeze_10.h5\n",
      "[2025-09-17 04:39:34,120: WARNING: saving_utils: Compiled the loaded model, but the compiled metrics have yet to be built. `model.compile_metrics` will be empty until you train or evaluate the model.]\n",
      "Found 418 images belonging to 2 classes.\n",
      "\u001b[1m27/27\u001b[0m \u001b[32m━━━━━━━━━━━━━━━━━━━━\u001b[0m\u001b[37m\u001b[0m \u001b[1m7s\u001b[0m 232ms/step - accuracy: 0.8589 - loss: 0.3232\n",
      "[2025-09-17 04:39:41,010: INFO: common: json file saved at: scores.json]\n",
      "\n",
      "\n",
      "Evaluating model: artifacts/training/scan_over_freeze_till_models_freeze_2.h5\n",
      "[2025-09-17 04:39:41,290: WARNING: saving_utils: Compiled the loaded model, but the compiled metrics have yet to be built. `model.compile_metrics` will be empty until you train or evaluate the model.]\n",
      "Found 418 images belonging to 2 classes.\n",
      "\u001b[1m27/27\u001b[0m \u001b[32m━━━━━━━━━━━━━━━━━━━━\u001b[0m\u001b[37m\u001b[0m \u001b[1m7s\u001b[0m 228ms/step - accuracy: 0.9067 - loss: 1.3126\n",
      "[2025-09-17 04:39:48,100: INFO: common: json file saved at: scores.json]\n",
      "\n",
      "\n",
      "Evaluating model: artifacts/training/scan_over_freeze_till_models_freeze_3.h5\n",
      "[2025-09-17 04:39:48,273: WARNING: saving_utils: Compiled the loaded model, but the compiled metrics have yet to be built. `model.compile_metrics` will be empty until you train or evaluate the model.]\n",
      "Found 418 images belonging to 2 classes.\n",
      "\u001b[1m27/27\u001b[0m \u001b[32m━━━━━━━━━━━━━━━━━━━━\u001b[0m\u001b[37m\u001b[0m \u001b[1m7s\u001b[0m 229ms/step - accuracy: 0.9163 - loss: 0.4325\n",
      "[2025-09-17 04:39:55,115: INFO: common: json file saved at: scores.json]\n",
      "\n",
      "\n",
      "Evaluating model: artifacts/training/scan_over_freeze_till_models_freeze_9.h5\n",
      "[2025-09-17 04:39:55,294: WARNING: saving_utils: Compiled the loaded model, but the compiled metrics have yet to be built. `model.compile_metrics` will be empty until you train or evaluate the model.]\n",
      "Found 418 images belonging to 2 classes.\n",
      "\u001b[1m27/27\u001b[0m \u001b[32m━━━━━━━━━━━━━━━━━━━━\u001b[0m\u001b[37m\u001b[0m \u001b[1m7s\u001b[0m 231ms/step - accuracy: 0.5215 - loss: 0.6925\n",
      "[2025-09-17 04:40:02,194: INFO: common: json file saved at: scores.json]\n",
      "\n",
      "\n",
      "Evaluating model: artifacts/training/model.h5\n",
      "[2025-09-17 04:40:02,346: WARNING: saving_utils: Compiled the loaded model, but the compiled metrics have yet to be built. `model.compile_metrics` will be empty until you train or evaluate the model.]\n",
      "Found 418 images belonging to 2 classes.\n",
      "\u001b[1m27/27\u001b[0m \u001b[32m━━━━━━━━━━━━━━━━━━━━\u001b[0m\u001b[37m\u001b[0m \u001b[1m7s\u001b[0m 235ms/step - accuracy: 0.8589 - loss: 0.3232\n",
      "[2025-09-17 04:40:09,324: INFO: common: json file saved at: scores.json]\n",
      "\n",
      "\n",
      "Evaluating model: artifacts/training/scan_over_freeze_till_models_freeze_5.h5\n",
      "[2025-09-17 04:40:09,518: WARNING: saving_utils: Compiled the loaded model, but the compiled metrics have yet to be built. `model.compile_metrics` will be empty until you train or evaluate the model.]\n",
      "Found 418 images belonging to 2 classes.\n",
      "\u001b[1m27/27\u001b[0m \u001b[32m━━━━━━━━━━━━━━━━━━━━\u001b[0m\u001b[37m\u001b[0m \u001b[1m7s\u001b[0m 230ms/step - accuracy: 0.9665 - loss: 0.0905\n",
      "[2025-09-17 04:40:16,372: INFO: common: json file saved at: scores.json]\n",
      "\n",
      "\n",
      "Evaluating model: artifacts/training/scan_over_freeze_till_models_freeze_7.h5\n",
      "[2025-09-17 04:40:16,553: WARNING: saving_utils: Compiled the loaded model, but the compiled metrics have yet to be built. `model.compile_metrics` will be empty until you train or evaluate the model.]\n",
      "Found 418 images belonging to 2 classes.\n",
      "\u001b[1m27/27\u001b[0m \u001b[32m━━━━━━━━━━━━━━━━━━━━\u001b[0m\u001b[37m\u001b[0m \u001b[1m7s\u001b[0m 237ms/step - accuracy: 0.8947 - loss: 0.2360\n",
      "[2025-09-17 04:40:23,569: INFO: common: json file saved at: scores.json]\n",
      "\n",
      "\n",
      "Evaluating model: artifacts/training/scan_over_freeze_till_models_freeze_4.h5\n",
      "[2025-09-17 04:40:23,745: WARNING: saving_utils: Compiled the loaded model, but the compiled metrics have yet to be built. `model.compile_metrics` will be empty until you train or evaluate the model.]\n",
      "Found 418 images belonging to 2 classes.\n",
      "\u001b[1m27/27\u001b[0m \u001b[32m━━━━━━━━━━━━━━━━━━━━\u001b[0m\u001b[37m\u001b[0m \u001b[1m7s\u001b[0m 232ms/step - accuracy: 0.9474 - loss: 0.1470\n",
      "[2025-09-17 04:40:30,684: INFO: common: json file saved at: scores.json]\n",
      "\n",
      "\n",
      "Evaluating model: artifacts/training/scan_over_freeze_till_models_freeze_6.h5\n",
      "[2025-09-17 04:40:31,089: WARNING: saving_utils: Compiled the loaded model, but the compiled metrics have yet to be built. `model.compile_metrics` will be empty until you train or evaluate the model.]\n",
      "Found 418 images belonging to 2 classes.\n",
      "\u001b[1m27/27\u001b[0m \u001b[32m━━━━━━━━━━━━━━━━━━━━\u001b[0m\u001b[37m\u001b[0m \u001b[1m7s\u001b[0m 228ms/step - accuracy: 0.9713 - loss: 0.0986\n",
      "[2025-09-17 04:40:37,890: INFO: common: json file saved at: scores.json]\n",
      "\n",
      "\n",
      "Evaluating model: artifacts/training/scan_over_freeze_till_models_freeze_0.h5\n",
      "[2025-09-17 04:40:38,038: WARNING: saving_utils: Compiled the loaded model, but the compiled metrics have yet to be built. `model.compile_metrics` will be empty until you train or evaluate the model.]\n",
      "Found 418 images belonging to 2 classes.\n",
      "\u001b[1m27/27\u001b[0m \u001b[32m━━━━━━━━━━━━━━━━━━━━\u001b[0m\u001b[37m\u001b[0m \u001b[1m7s\u001b[0m 231ms/step - accuracy: 0.8589 - loss: nan\n",
      "[2025-09-17 04:40:44,942: INFO: common: json file saved at: scores.json]\n",
      "\n",
      "\n",
      "Evaluating model: artifacts/training/scan_over_freeze_till_models_freeze_8.h5\n",
      "[2025-09-17 04:40:45,083: WARNING: saving_utils: Compiled the loaded model, but the compiled metrics have yet to be built. `model.compile_metrics` will be empty until you train or evaluate the model.]\n",
      "Found 418 images belonging to 2 classes.\n",
      "\u001b[1m27/27\u001b[0m \u001b[32m━━━━━━━━━━━━━━━━━━━━\u001b[0m\u001b[37m\u001b[0m \u001b[1m7s\u001b[0m 227ms/step - accuracy: 0.8565 - loss: 0.3547\n",
      "[2025-09-17 04:40:51,865: INFO: common: json file saved at: scores.json]\n",
      "\n",
      "\n",
      "Evaluating model: artifacts/training/scan_over_freeze_till_models_freeze_1.h5\n",
      "[2025-09-17 04:40:52,025: WARNING: saving_utils: Compiled the loaded model, but the compiled metrics have yet to be built. `model.compile_metrics` will be empty until you train or evaluate the model.]\n",
      "Found 418 images belonging to 2 classes.\n",
      "\u001b[1m27/27\u001b[0m \u001b[32m━━━━━━━━━━━━━━━━━━━━\u001b[0m\u001b[37m\u001b[0m \u001b[1m7s\u001b[0m 230ms/step - accuracy: 0.9139 - loss: 0.4362\n",
      "[2025-09-17 04:40:58,870: INFO: common: json file saved at: scores.json]\n"
     ]
    }
   ],
   "source": [
    "# Loop through all models in the artifacts/training directory and evaluate them\n",
    "import os\n",
    "\n",
    "for model_file in os.listdir(\"artifacts/training\"):\n",
    "    if model_file.endswith(\".h5\"):\n",
    "        model_path = os.path.join(\"artifacts/training\", model_file)\n",
    "        print(f\"\\n\\nEvaluating model: {model_path}\")\n",
    "        val_config = EvaluationConfig(\n",
    "            path_of_model=model_path,\n",
    "            training_data=\"artifacts/data_ingestion/PetImages\",\n",
    "            all_params=config.params,\n",
    "            params_image_size=config.params.IMAGE_SIZE,\n",
    "            params_batch_size=config.params.BATCH_SIZE\n",
    "        )\n",
    "        evaluation = Evaluation(val_config)\n",
    "        evaluation.evaluation()\n",
    "        evaluation.save_score()"
   ]
  },
  {
   "cell_type": "code",
   "execution_count": null,
   "metadata": {},
   "outputs": [
    {
     "name": "stdout",
     "output_type": "stream",
     "text": [
      "\u001b[1m27/27\u001b[0m \u001b[32m━━━━━━━━━━━━━━━━━━━━\u001b[0m\u001b[37m\u001b[0m \u001b[1m7s\u001b[0m 231ms/step - accuracy: 0.9474 - loss: 0.1470\n"
     ]
    },
    {
     "data": {
      "text/plain": [
       "[0.14702950417995453, 0.9473684430122375]"
      ]
     },
     "execution_count": 14,
     "metadata": {},
     "output_type": "execute_result"
    }
   ],
   "source": [
    "# set model to freeze_till_4 and evaluate\n",
    "model = tf.keras.models.load_model(\"artifacts/training/scan_over_freeze_till_models_freeze_.h5\", compile=False)\n",
    "model.compile(\n",
    "    optimizer=\"sgd\", \n",
    "    loss=\"categorical_crossentropy\", \n",
    "    metrics=[\"accuracy\"]\n",
    ")\n",
    "model.evaluate(evaluation.valid_generator)"
   ]
  },
  {
   "cell_type": "code",
   "execution_count": 15,
   "metadata": {},
   "outputs": [
    {
     "name": "stdout",
     "output_type": "stream",
     "text": [
      "\u001b[1m27/27\u001b[0m \u001b[32m━━━━━━━━━━━━━━━━━━━━\u001b[0m\u001b[37m\u001b[0m \u001b[1m7s\u001b[0m 233ms/step\n"
     ]
    },
    {
     "data": {
      "image/png": "[encoded data removed]",
      "text/plain": [
       "<Figure size 640x480 with 1 Axes>"
      ]
     },
     "metadata": {},
     "output_type": "display_data"
    }
   ],
   "source": [
    "from sklearn.metrics import roc_curve, auc\n",
    "import numpy as np\n",
    "\n",
    "import matplotlib.pyplot as plt\n",
    "\n",
    "# Get true labels and predicted probabilities\n",
    "true_labels = evaluation.valid_generator.classes\n",
    "predicted_probs = model.predict(evaluation.valid_generator)\n",
    "\n",
    "# Compute ROC curve and AUC for each class\n",
    "fpr, tpr, _ = roc_curve(true_labels, predicted_probs[:, 1])  # Assuming binary classification\n",
    "roc_auc = auc(fpr, tpr)\n",
    "\n",
    "# Plot ROC curve\n",
    "plt.figure()\n",
    "plt.plot(fpr, tpr, color='darkorange', lw=2, label=f'ROC curve (area = {roc_auc:.2f})')\n",
    "plt.plot([0, 1], [0, 1], color='navy', lw=2, linestyle='--')\n",
    "plt.xlabel('False Positive Rate')\n",
    "plt.ylabel('True Positive Rate')\n",
    "plt.title('Receiver Operating Characteristic (ROC) Curve')\n",
    "plt.legend(loc=\"lower right\")\n",
    "plt.show()"
   ]
  },
  {
   "cell_type": "markdown",
   "metadata": {
    "vscode": {
     "languageId": "tex"
    }
   },
   "source": [
    "## Confusion Matrix\n",
    "\n",
    "A **confusion matrix** is a table used to evaluate the performance of a classification model. It provides a summary of prediction results on a classification problem, showing the number of correct and incorrect predictions broken down by each class. This matrix is especially useful for understanding the performance of a model beyond simple accuracy.\n",
    "\n",
    "### Structure of a Confusion Matrix\n",
    "\n",
    "For a binary classification problem, the confusion matrix is a 2x2 table:\n",
    "\n",
    "|                | Predicted: Positive | Predicted: Negative |\n",
    "|----------------|---------------------|---------------------|\n",
    "| **Actual: Positive** | True Positive (TP)      | False Negative (FN)     |\n",
    "| **Actual: Negative** | False Positive (FP)     | True Negative (TN)      |\n",
    "\n",
    "- **True Positive (TP)**: The model correctly predicted the positive class.\n",
    "- **True Negative (TN)**: The model correctly predicted the negative class.\n",
    "- **False Positive (FP)**: The model incorrectly predicted the positive class (Type I error).\n",
    "- **False Negative (FN)**: The model incorrectly predicted the negative class (Type II error).\n",
    "\n",
    "### Metrics Derived from the Confusion Matrix\n",
    "\n",
    "From the confusion matrix, several performance metrics can be calculated:\n",
    "\n",
    "1. **Accuracy**: The proportion of correct predictions.\n",
    "    \\[\n",
    "    \\text{Accuracy} = \\frac{TP + TN}{TP + TN + FP + FN}\n",
    "    \\]\n",
    "\n",
    "2. **Precision**: The proportion of positive predictions that are correct.\n",
    "    \\[\n",
    "    \\text{Precision} = \\frac{TP}{TP + FP}\n",
    "    \\]\n",
    "\n",
    "3. **Recall (Sensitivity)**: The proportion of actual positives that are correctly identified.\n",
    "    \\[\n",
    "    \\text{Recall} = \\frac{TP}{TP + FN}\n",
    "    \\]\n",
    "\n",
    "4. **F1-Score**: The harmonic mean of precision and recall.\n",
    "    \\[\n",
    "    F1 = 2 \\cdot \\frac{\\text{Precision} \\cdot \\text{Recall}}{\\text{Precision} + \\text{Recall}}\n",
    "    \\]\n",
    "\n",
    "5. **Specificity**: The proportion of actual negatives that are correctly identified.\n",
    "    \\[\n",
    "    \\text{Specificity} = \\frac{TN}{TN + FP}\n",
    "    \\]\n",
    "\n",
    "### How to Interpret a Confusion Matrix\n",
    "\n",
    "- A high number of **True Positives (TP)** and **True Negatives (TN)** indicates good model performance.\n",
    "- A high number of **False Positives (FP)** means the model is incorrectly classifying negatives as positives, which can be problematic in scenarios like spam detection.\n",
    "- A high number of **False Negatives (FN)** means the model is missing positives, which can be critical in scenarios like disease diagnosis.\n",
    "\n",
    "By analyzing the confusion matrix, you can identify the strengths and weaknesses of your model and make informed decisions to improve its performance."
   ]
  },
  {
   "cell_type": "code",
   "execution_count": 16,
   "metadata": {},
   "outputs": [
    {
     "data": {
      "image/png": "[encoded data removed]",
      "text/plain": [
       "<Figure size 640x480 with 2 Axes>"
      ]
     },
     "metadata": {},
     "output_type": "display_data"
    }
   ],
   "source": [
    "# plot confusion matrix\n",
    "from sklearn.metrics import confusion_matrix, ConfusionMatrixDisplay\n",
    "y_pred = np.argmax(predicted_probs, axis=1)\n",
    "cm = confusion_matrix(true_labels, y_pred)\n",
    "disp = ConfusionMatrixDisplay(confusion_matrix=cm, display_labels=evaluation.valid_generator.class_indices.keys())\n",
    "disp.plot(cmap=plt.cm.Blues)\n",
    "plt.show()"
   ]
  },
  {
   "cell_type": "markdown",
   "metadata": {},
   "source": [
    "The confusion matrix indicates that there are many cat images being falsely labeled as dogs (False Negatives), while the reverse (dogs being labeled as cats) is less frequent. This suggests an imbalance in the model's ability to distinguish cats from dogs.\n",
    "\n",
    "### Potential Improvements:\n",
    "1. **Data Augmentation**: Increase the diversity of cat images in the training dataset by applying data augmentation techniques such as rotation, flipping, zooming, and brightness adjustments. This can help the model generalize better to variations in cat images.\n",
    "\n",
    "2. **Class Balancing**: Ensure that the training dataset has a balanced number of cat and dog images. If the dataset is imbalanced, oversample the minority class (cats) or undersample the majority class (dogs) to reduce bias. (This is already true for this dataset.)\n",
    "\n",
    "3. **Fine-Tuning the Model**: Adjust the model's architecture or hyperparameters, such as learning rate, class weights, or loss function. For example, assigning higher weights to the cat class in the loss function can penalize misclassifications of cats more heavily, encouraging the model to focus on correctly identifying cats."
   ]
  },
  {
   "cell_type": "markdown",
   "metadata": {},
   "source": []
  }
 ],
 "metadata": {
  "kernelspec": {
   "display_name": ".venv",
   "language": "python",
   "name": "python3"
  },
  "language_info": {
   "codemirror_mode": {
    "name": "ipython",
    "version": 3
   },
   "file_extension": ".py",
   "mimetype": "text/x-python",
   "name": "python",
   "nbconvert_exporter": "python",
   "pygments_lexer": "ipython3",
   "version": "3.10.18"
  },
  "orig_nbformat": 4
 },
 "nbformat": 4,
 "nbformat_minor": 2
}
