{
 "cells": [
  {
   "cell_type": "markdown",
   "id": "0084ee4d",
   "metadata": {},
   "source": [
    "# Overview 🚀\n",
    "\n",
    "This notebook demonstrates how to serve a trained image classification model using FastAPI and Jinja2.\n",
    "\n",
    "## Workflow\n",
    "\n",
    "1. **Prediction Pipeline:** 🤖 Deploy our trained model for inference.\n",
    "2. **FastAPI Setup:**  \n",
    "    - 🔗 Define routes for training and prediction.\n",
    "    - 🧩 Integrate Jinja2 for dynamic HTML rendering.\n",
    "    - 📄 Provide interactive API documentation.\n",
    "3. **User Interface:**  \n",
    "    - 🔌 Access REST API endpoints for programmatic interaction.\n",
    "    - 🌐 Use a custom website for user-friendly image classification.\n",
    "\n",
    "This approach enables both API access and a web interface for efficient image classification tasks."
   ]
  },
  {
   "cell_type": "markdown",
   "id": "1a9da7e6",
   "metadata": {},
   "source": [
    "## Jinja ✨\n",
    "\n",
    "Jinja is a modern and designer-friendly templating engine for Python, used to generate dynamic HTML content by combining templates with data.\n",
    "\n",
    "**Why use Jinja with FastAPI?**\n",
    "- **Separation of concerns:** Keeps logic and presentation separate.\n",
    "- **Dynamic rendering:** Allows HTML pages to display backend data.\n",
    "- **Maintainability:** UI updates do not require backend changes.\n",
    "\n",
    "**Typical workflow:**\n",
    "1. Define HTML templates in a `templates` directory.\n",
    "2. Use `Jinja2Templates` in FastAPI to load and render templates.\n",
    "3. Pass data from backend to template for dynamic content.\n",
    "\n",
    "This approach helps organize code and simplifies updates to the user interface."
   ]
  },
  {
   "cell_type": "markdown",
   "id": "c62a28d7",
   "metadata": {},
   "source": [
    "## FastAPI 🚀"
   ]
  },
  {
   "cell_type": "markdown",
   "id": "ff9c8714",
   "metadata": {},
   "source": [
    "FastAPI 🚀 is a modern, fast (high-performance) web framework for building APIs with Python 3.7+ based on standard Python type hints. It is designed for ease of use, speed, and automatic generation of interactive API documentation.\n",
    "\n",
    "**Key features:**\n",
    "- ⚡ **Speed:** Built on Starlette and Pydantic, FastAPI is one of the fastest Python frameworks.\n",
    "- 📝 **Type hints:** Uses Python type hints for data validation and editor support.\n",
    "- 📄 **Automatic docs:** Generates interactive API documentation (Swagger UI and ReDoc) automatically.\n",
    "- 🔄 **Asynchronous support:** Handles async programming for high concurrency.\n",
    "- 🔌 **Easy integration:** Works well with data validation, authentication, and templating engines like Jinja2.\n",
    "\n",
    "FastAPI is ideal for building RESTful APIs, microservices, and backend services efficiently."
   ]
  },
  {
   "cell_type": "code",
   "execution_count": 1,
   "id": "6bd342a4",
   "metadata": {},
   "outputs": [
    {
     "name": "stderr",
     "output_type": "stream",
     "text": [
      "2025-08-18 21:40:56.906837: I external/local_xla/xla/tsl/cuda/cudart_stub.cc:31] Could not find cuda drivers on your machine, GPU will not be used.\n",
      "2025-08-18 21:40:56.907065: I tensorflow/core/util/port.cc:153] oneDNN custom operations are on. You may see slightly different numerical results due to floating-point round-off errors from different computation orders. To turn them off, set the environment variable `TF_ENABLE_ONEDNN_OPTS=0`.\n",
      "2025-08-18 21:40:56.944780: I tensorflow/core/platform/cpu_feature_guard.cc:210] This TensorFlow binary is optimized to use available CPU instructions in performance-critical operations.\n",
      "To enable the following instructions: AVX2 AVX_VNNI FMA, in other operations, rebuild TensorFlow with the appropriate compiler flags.\n",
      "2025-08-18 21:40:57.952407: I tensorflow/core/util/port.cc:153] oneDNN custom operations are on. You may see slightly different numerical results due to floating-point round-off errors from different computation orders. To turn them off, set the environment variable `TF_ENABLE_ONEDNN_OPTS=0`.\n",
      "2025-08-18 21:40:57.952681: I external/local_xla/xla/tsl/cuda/cudart_stub.cc:31] Could not find cuda drivers on your machine, GPU will not be used.\n"
     ]
    }
   ],
   "source": [
    "# Import necessary FastAPI modules and other dependencies\n",
    "from fastapi import FastAPI, Request\n",
    "from fastapi.responses import HTMLResponse, JSONResponse\n",
    "from fastapi.middleware.cors import CORSMiddleware\n",
    "from fastapi.templating import Jinja2Templates\n",
    "import os\n",
    "from ImageClassification.utils import decodeImage\n",
    "# Our pipeline.\n",
    "from ImageClassification.pipeline.predict import DogCat\n",
    "\n",
    "# Set environment variables for language and locale\n",
    "os.putenv('LANG', 'en_US.UTF-8')\n",
    "os.putenv('LC_ALL', 'en_US.UTF-8')\n",
    "\n",
    "# Initialize FastAPI app\n",
    "app = FastAPI(docs_url=\"/docs\", redoc_url=\"/redoc\")\n",
    "\n",
    "# Add CORS middleware to allow cross-origin requests\n",
    "app.add_middleware(\n",
    "    CORSMiddleware,\n",
    "    allow_origins=[\"*\"],         # Allow all origins\n",
    "    allow_credentials=True,\n",
    "    allow_methods=[\"*\"],         # Allow all HTTP methods\n",
    "    allow_headers=[\"*\"],         # Allow all headers\n",
    ")\n",
    "\n",
    "# Set up Jinja2 templates directory\n",
    "templates = Jinja2Templates(directory=\"templates\")\n",
    "\n",
    "# ClientApp class to manage image filename and classifier instance\n",
    "class ClientApp:\n",
    "    def __init__(self):\n",
    "        self.filename = \"inputImage.jpg\"         # Default filename for input image\n",
    "        self.classifier = DogCat(self.filename)  # Initialize classifier with filename\n",
    "\n",
    "# Create a global instance of ClientApp\n",
    "clApp = ClientApp()\n",
    "\n",
    "# Route for home page, renders index.html template\n",
    "@app.get(\"/\", response_class=HTMLResponse)\n",
    "async def home(request: Request):\n",
    "    return templates.TemplateResponse(\"index.html\", {\"request\": request})\n",
    "\n",
    "# Route to trigger training by running main.py script\n",
    "@app.post(\"/train\")\n",
    "async def trainRoute():\n",
    "    os.system(\"python main.py\")  # Execute training script\n",
    "    return {\"message\": \"Training done successfully!\"}\n",
    "\n",
    "# Route to handle image prediction requests\n",
    "@app.post(\"/predict\")\n",
    "async def predictRoute(request: Request):\n",
    "    data = await request.json()                  # Parse JSON data from request\n",
    "    image = data['image']                        # Get image data\n",
    "    decodeImage(image, clApp.filename)           # Decode and save image to file\n",
    "    result = clApp.classifier.predictiondogcat() # Run prediction on saved image\n",
    "    return JSONResponse(content=result)          # Return prediction result as JSON"
   ]
  },
  {
   "cell_type": "markdown",
   "id": "3848f424",
   "metadata": {},
   "source": [
    "Execute the following command then:\n",
    "\n",
    "* 🚀 Visit [http://127.0.0.1:8000/docs](http://127.0.0.1:8000/docs) to view Swagger UI and manually trigger the training pipeline using REST APIs.\n",
    "* 🖼️ Visit [http://127.0.0.1:8000](http://127.0.0.1:8000) to view the HTML website for prediction.\n",
    "\n",
    "**Note:** 🔒 This is only hosted on your device and not exposed to the public."
   ]
  },
  {
   "cell_type": "code",
   "execution_count": 2,
   "id": "b35a9e60",
   "metadata": {},
   "outputs": [
    {
     "name": "stdout",
     "output_type": "stream",
     "text": [
      "\u001b[31mERROR\u001b[0m:    [Errno 98] Address already in use\n"
     ]
    }
   ],
   "source": [
    "# Run the FastAPI app using Uvicorn with 2 worker processes, accessible at port 8000\n",
    "!uvicorn app:app --port 8000 --workers 2"
   ]
  },
  {
   "cell_type": "code",
   "execution_count": null,
   "id": "b30cdab6",
   "metadata": {},
   "outputs": [],
   "source": []
  }
 ],
 "metadata": {
  "kernelspec": {
   "display_name": "py11 (3.11.13)",
   "language": "python",
   "name": "python3"
  },
  "language_info": {
   "codemirror_mode": {
    "name": "ipython",
    "version": 3
   },
   "file_extension": ".py",
   "mimetype": "text/x-python",
   "name": "python",
   "nbconvert_exporter": "python",
   "pygments_lexer": "ipython3",
   "version": "3.11.13"
  }
 },
 "nbformat": 4,
 "nbformat_minor": 5
}
